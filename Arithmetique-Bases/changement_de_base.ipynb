{
 "cells": [
  {
   "cell_type": "markdown",
   "metadata": {},
   "source": [
    "<h2 class=\"alert alert-success\"> Changements de base</h2>"
   ]
  },
  {
   "cell_type": "markdown",
   "metadata": {},
   "source": [
    "<h2 class=\"alert alert-info\">Les bases des bases</h1>"
   ]
  },
  {
   "cell_type": "markdown",
   "metadata": {},
   "source": [
    "<p>Nous allons faire des fonctions permettant de convertir un nombre décimal en une autre base ou d’une autre base en décimal.<br/>\n",
    "Les nombres en base 10 seront représentés par des nombres entiers et ceux des autres bases seront représentés par des chaînes de caractères.<br/>\n",
    "Nous allons travailler dans un fichier appelé feuille−changement−base−NOM−PRENOM.ipynb<br/>\n",
    "Pour pouvoir gérer les bases de plus de 10 chiffres, nous allons rajouter un alphabet :<br/>"
   ]
  },
  {
   "cell_type": "code",
   "execution_count": 11,
   "metadata": {},
   "outputs": [],
   "source": [
    "alphabet = \"0123456789ABCDEFGHIJKLMNOPQRSTUVWXYZ\""
   ]
  },
  {
   "cell_type": "markdown",
   "metadata": {},
   "source": [
    "Ainsi au moment de rajouter le chiffre c au résultat, nous pourrons rajouter alphabet[c]."
   ]
  },
  {
   "cell_type": "code",
   "execution_count": 17,
   "metadata": {},
   "outputs": [
    {
     "data": {
      "text/plain": [
       "'5'"
      ]
     },
     "execution_count": 17,
     "metadata": {},
     "output_type": "execute_result"
    }
   ],
   "source": [
    "alphabet[5]"
   ]
  },
  {
   "cell_type": "code",
   "execution_count": 19,
   "metadata": {},
   "outputs": [
    {
     "data": {
      "text/plain": [
       "'A'"
      ]
     },
     "execution_count": 19,
     "metadata": {},
     "output_type": "execute_result"
    }
   ],
   "source": [
    "alphabet[10]"
   ]
  },
  {
   "cell_type": "code",
   "execution_count": 20,
   "metadata": {},
   "outputs": [
    {
     "data": {
      "text/plain": [
       "'F'"
      ]
     },
     "execution_count": 20,
     "metadata": {},
     "output_type": "execute_result"
    }
   ],
   "source": [
    "alphabet[15]"
   ]
  },
  {
   "cell_type": "markdown",
   "metadata": {},
   "source": [
    "Pour retrouver la “valeur” d’un chiffre d’un nombre en base b, il est possible d’utiliser la\n",
    "commande suivante :"
   ]
  },
  {
   "cell_type": "code",
   "execution_count": 21,
   "metadata": {},
   "outputs": [
    {
     "data": {
      "text/plain": [
       "5"
      ]
     },
     "execution_count": 21,
     "metadata": {},
     "output_type": "execute_result"
    }
   ],
   "source": [
    "alphabet.index(\"5\")"
   ]
  },
  {
   "cell_type": "code",
   "execution_count": 22,
   "metadata": {},
   "outputs": [
    {
     "data": {
      "text/plain": [
       "10"
      ]
     },
     "execution_count": 22,
     "metadata": {},
     "output_type": "execute_result"
    }
   ],
   "source": [
    "alphabet.index(\"A\")"
   ]
  },
  {
   "cell_type": "code",
   "execution_count": 23,
   "metadata": {},
   "outputs": [
    {
     "data": {
      "text/plain": [
       "15"
      ]
     },
     "execution_count": 23,
     "metadata": {},
     "output_type": "execute_result"
    }
   ],
   "source": [
    "alphabet.index(\"F\")"
   ]
  },
  {
   "cell_type": "markdown",
   "metadata": {},
   "source": [
    "On rappelle qu’il est possible d’ajouter des caractères en début ou en fin de chaînes à l’aide\n",
    "des commandes suivantes :"
   ]
  },
  {
   "cell_type": "code",
   "execution_count": 26,
   "metadata": {},
   "outputs": [
    {
     "data": {
      "text/plain": [
       "'011'"
      ]
     },
     "execution_count": 26,
     "metadata": {},
     "output_type": "execute_result"
    }
   ],
   "source": [
    "resultat = \"11\"\n",
    "resultat = \"0\" + resultat\n",
    "resultat"
   ]
  },
  {
   "cell_type": "code",
   "execution_count": 27,
   "metadata": {},
   "outputs": [
    {
     "data": {
      "text/plain": [
       "'0112'"
      ]
     },
     "execution_count": 27,
     "metadata": {},
     "output_type": "execute_result"
    }
   ],
   "source": [
    "resultat += \"2\"\n",
    "resultat"
   ]
  },
  {
   "cell_type": "markdown",
   "metadata": {},
   "source": [
    "On rappelle aussi que le quotient de la division euclidienne est donné par a // b et le reste\n",
    "par a % b."
   ]
  },
  {
   "cell_type": "markdown",
   "metadata": {},
   "source": [
    "<h2 class=\"alert alert-info\">De la base 10 à la base b</h2>"
   ]
  },
  {
   "cell_type": "markdown",
   "metadata": {},
   "source": [
    "<p class=\"alert alert-warning\"><u>Exercice 1</u> :\n",
    "Écrire une fonction conversion(nb,b) qui prend un entier nb en base 10 et\n",
    "retourne son écriture en base b. Il est conseillé d’utiliser la première méthode des divisions\n",
    "successives par b.</p>"
   ]
  },
  {
   "cell_type": "code",
   "execution_count": 2,
   "metadata": {},
   "outputs": [],
   "source": [
    "def conversion(nb,b):\n",
    "    resultat = ''\n",
    "    pass #écrire la fonction ici\n",
    "    return resultat"
   ]
  },
  {
   "cell_type": "code",
   "execution_count": 4,
   "metadata": {},
   "outputs": [
    {
     "data": {
      "text/plain": [
       "'FF'"
      ]
     },
     "execution_count": 4,
     "metadata": {},
     "output_type": "execute_result"
    }
   ],
   "source": [
    "#Le résultat attendu est : \n",
    ">>> conversion(1, 2)\n",
    "'1'\n",
    ">>> conversion(10, 2)\n",
    "'1010'\n",
    ">>> conversion(255, 2)\n",
    "'11111111'\n",
    ">>> conversion(255, 4)\n",
    "'3333'\n",
    ">>> conversion(255, 6)\n",
    "'1103'\n",
    ">>> conversion(255, 16)\n",
    "'FF'"
   ]
  },
  {
   "cell_type": "markdown",
   "metadata": {},
   "source": [
    "<p class=\"alert alert-warning\"><u>Exercice 2</u> : Quelle est la valeur retournée par conversion(0,2) ? Corriger votre fonction\n",
    "si nécessaire.</p>"
   ]
  },
  {
   "cell_type": "markdown",
   "metadata": {},
   "source": [
    "<h2 class=\"alert alert-info\">De la base b à la base 10</h2>"
   ]
  },
  {
   "cell_type": "markdown",
   "metadata": {},
   "source": [
    "<p class=\"alert alert-warning\"><u>Exercice 3</u> : Écrire une fonction deconversion(nb,b) qui prend un nombre nb en base b et\n",
    "retourne sa valeur en base 10.<br/>\n",
    "Il est recommandé d’utiliser la méthode de Horner.\n",
    "Voici quelques exemples d’utilisation."
   ]
  },
  {
   "cell_type": "code",
   "execution_count": 16,
   "metadata": {},
   "outputs": [],
   "source": [
    "def deconversion(nb,b):\n",
    "    resultat = ''\n",
    "    pass #écrire la fonction ici\n",
    "    return resultat"
   ]
  },
  {
   "cell_type": "code",
   "execution_count": 17,
   "metadata": {},
   "outputs": [
    {
     "data": {
      "text/plain": [
       "35"
      ]
     },
     "execution_count": 17,
     "metadata": {},
     "output_type": "execute_result"
    }
   ],
   "source": [
    ">>> deconversion(\"1001\", 2)\n",
    "9\n",
    ">>> deconversion(\"1011\", 2)\n",
    "11\n",
    ">>> deconversion(\"1010\", 2)\n",
    "10\n",
    ">>> deconversion(\"10101010\", 2)\n",
    "170\n",
    ">>> deconversion(\"7F\", 16)\n",
    "127\n",
    ">>> deconversion(\"55\", 6)\n",
    "35"
   ]
  },
  {
   "cell_type": "markdown",
   "metadata": {},
   "source": [
    "<h2 class=\"alert alert-info\">Pour aller plus loin : algorithme de Horner</h2>"
   ]
  },
  {
   "cell_type": "markdown",
   "metadata": {},
   "source": [
    "<p class=\"alert alert-warning\"><u>Exercice 4</u> : Rajouter une fonction conversion2(nb, b) qui implémente l’autre méthode\n",
    "pour convertir un nombre de la base 10 à la base b.<br/>\n",
    "Vérifier qu’elle donne bien les mêmes valeurs que conversion(nb, b).</p>"
   ]
  },
  {
   "cell_type": "code",
   "execution_count": 19,
   "metadata": {},
   "outputs": [],
   "source": [
    "def  conversion2(nb, b):\n",
    "    pass"
   ]
  },
  {
   "cell_type": "markdown",
   "metadata": {},
   "source": [
    "<p class=\"alert alert-warning\"><u>Exercice 5</u> : Rajouter une fonction deconversion2(nb, b) qui implémente l’autre méthode\n",
    "pour convertir un nombre de la base b en décimal.</p>"
   ]
  },
  {
   "cell_type": "code",
   "execution_count": 20,
   "metadata": {},
   "outputs": [],
   "source": [
    "def  deconversion2(nb, b):\n",
    "    pass"
   ]
  },
  {
   "cell_type": "markdown",
   "metadata": {},
   "source": [
    "<p class=\"alert alert-warning\"><u>Exercice 6</u> : Modifier au moins une des fonctions de conversion en rajoutant un paramètre :\n",
    "conversion(nb, b, k=0). Si k = 0, le comportement est le même. Si k > 0, alors il faut\n",
    "produire un nombre de k chiffres, soit en tronquant, soit en rajoutant des 0 à gauche.\n",
    "Vous pouvez utiliser les commandes suivantes :"
   ]
  },
  {
   "cell_type": "code",
   "execution_count": 26,
   "metadata": {},
   "outputs": [
    {
     "data": {
      "text/plain": [
       "'1234'"
      ]
     },
     "execution_count": 26,
     "metadata": {},
     "output_type": "execute_result"
    }
   ],
   "source": [
    ">>> \"111\".rjust(5, \"0\")\n",
    "'00111'\n",
    ">>> \"111\".rjust(7, \"0\")\n",
    "'0000111'\n",
    ">>> \"111\".rjust(2, \"0\")\n",
    "'111'\n",
    ">>> \"1234\"[-2:]\n",
    "'34'\n",
    ">>> \"1234\"[-3:]\n",
    "'234'\n",
    ">>> \"1234\"[-5:]\n",
    "'1234'"
   ]
  },
  {
   "cell_type": "code",
   "execution_count": 36,
   "metadata": {},
   "outputs": [],
   "source": [
    "def  conversion(nb, b, k=0):\n",
    "    pass"
   ]
  },
  {
   "cell_type": "markdown",
   "metadata": {},
   "source": [
    "Voici quelques exemples d’utilisation :"
   ]
  },
  {
   "cell_type": "code",
   "execution_count": 37,
   "metadata": {},
   "outputs": [
    {
     "data": {
      "text/plain": [
       "'101'"
      ]
     },
     "execution_count": 37,
     "metadata": {},
     "output_type": "execute_result"
    }
   ],
   "source": [
    ">>> conversion(21, 2)\n",
    "'10101'\n",
    ">>> conversion(21, 2, 8)\n",
    "'00010101'\n",
    ">>> conversion(21, 2, 3)\n",
    "'101'"
   ]
  },
  {
   "cell_type": "code",
   "execution_count": null,
   "metadata": {},
   "outputs": [],
   "source": []
  }
 ],
 "metadata": {
  "kernelspec": {
   "display_name": "Python 3",
   "language": "python",
   "name": "python3"
  },
  "language_info": {
   "codemirror_mode": {
    "name": "ipython",
    "version": 3
   },
   "file_extension": ".py",
   "mimetype": "text/x-python",
   "name": "python",
   "nbconvert_exporter": "python",
   "pygments_lexer": "ipython3",
   "version": "3.7.6"
  }
 },
 "nbformat": 4,
 "nbformat_minor": 4
}
